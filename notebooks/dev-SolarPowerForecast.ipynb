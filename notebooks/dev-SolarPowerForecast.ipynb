{
 "cells": [
  {
   "cell_type": "code",
   "execution_count": null,
   "id": "acoustic-profile",
   "metadata": {},
   "outputs": [],
   "source": [
    "from decouple import config\n",
    "import requests\n",
    "import pandas as pd\n",
    "import holoviews as hv\n",
    "hv.extension('bokeh')\n",
    "\n",
    "# Credentials for Vallsjö site\n",
    "API_KEY = config('SOLAREDGE_API_KEY',default='')\n",
    "SITE_ID = config('SOLAREDGE_SITE_ID',default='')\n",
    "\n",
    "# SolarEdge API Doc: https://www.solaredge.com/sites/default/files/se_monitoring_api.pdf\n",
    "#url = f'https://monitoringapi.solaredge.com/site/{site_id}/details.json?api_key={api_key}' # Site info\n",
    "#url = f'https://monitoringapi.solaredge.com/site/{site_id}/currentPowerFlow?api_key={api_key}' # Power flow\n",
    "\n",
    "def get_produced_energy(startTime=\"2021-04-01 12:00:00\", endTime=\"2021-04-01 13:00:00\", api_key=API_KEY, site_id=SITE_ID):\n",
    "    # Description: Return the site total energy produced for a given period.\n",
    "    # https://monitoringapi.solaredge.com/site/1/timeFrameEnergy?startDate=2013-05-01&endDate=2013-05-06&api_key=L4QLVQ1LOKCQX2193VSEICXW61NP6B1O\n",
    "    \n",
    "    startTime = startTime.replace(\" \", \"%20\")\n",
    "    endTime = endTime.replace(\" \", \"%20\")\n",
    "    \n",
    "    url = f'https://monitoringapi.solaredge.com/site/{site_id}/power?api_key={api_key}&startTime={startTime}&endTime={endTime}'\n",
    "    response = requests.get(url)\n",
    "    print(response)\n",
    "    return response.text\n",
    "    \n",
    "prod_list = pd.read_json(get_produced_energy(startTime=\"2021-03-01 00:00:00\", endTime=\"2021-03-30 00:00:00\"))\n",
    "prod_df = pd.DataFrame(prod_list['power']['values'])\n",
    "prod_df['date'] = pd.to_datetime(prod_df['date'])\n",
    "prod_df = prod_df.set_index('date')\n",
    "\n",
    "prod_table = hv.Table((prod_df.index, prod_df['value']), 'Time', 'Power [W]')\n",
    "\n",
    "curve =  hv.Curve(prod_table).opts(height=400, responsive=True, show_grid=True, title='Power generation')\n",
    "curve"
   ]
  },
  {
   "cell_type": "code",
   "execution_count": null,
   "id": "occasional-guarantee",
   "metadata": {},
   "outputs": [],
   "source": []
  }
 ],
 "metadata": {
  "kernelspec": {
   "display_name": "Python 3",
   "language": "python",
   "name": "python3"
  },
  "language_info": {
   "codemirror_mode": {
    "name": "ipython",
    "version": 3
   },
   "file_extension": ".py",
   "mimetype": "text/x-python",
   "name": "python",
   "nbconvert_exporter": "python",
   "pygments_lexer": "ipython3",
   "version": "3.7.10"
  }
 },
 "nbformat": 4,
 "nbformat_minor": 5
}
